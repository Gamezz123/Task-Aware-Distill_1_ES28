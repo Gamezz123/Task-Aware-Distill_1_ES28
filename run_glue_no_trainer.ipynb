{
 "cells": [
  {
   "cell_type": "code",
   "execution_count": 1,
   "metadata": {},
   "outputs": [],
   "source": [
    "import json\n",
    "import subprocess\n",
    "\n",
    "# Load JSON\n",
    "with open(\"a.json\", \"r\") as f:\n",
    "    config = json.load(f)\n",
    "\n",
    "# Set environment variables\n",
    "import os\n",
    "os.environ[\"CUDA_VISIBLE_DEVICES\"] = config[\"cuda_visible_devices\"]\n",
    "os.environ[\"PYTHONPATH\"] = config[\"pythonpath\"]\n",
    "\n",
    "# Execute scripts\n",
    "for script in config[\"scripts\"]:\n",
    "    cmd = [\"python\", script[\"script_path\"]]\n",
    "    for arg, value in script[\"arguments\"].items():\n",
    "        cmd.append(f\"--{arg.replace('_', '-')}\")\n",
    "        if isinstance(value, bool):\n",
    "            # For boolean flags, add them only if True\n",
    "            if value:\n",
    "                continue\n",
    "        cmd.append(str(value))\n",
    "    subprocess.run(cmd)"
   ]
  },
  {
   "cell_type": "code",
   "execution_count": null,
   "metadata": {},
   "outputs": [],
   "source": []
  }
 ],
 "metadata": {
  "kernelspec": {
   "display_name": "base",
   "language": "python",
   "name": "python3"
  },
  "language_info": {
   "codemirror_mode": {
    "name": "ipython",
    "version": 3
   },
   "file_extension": ".py",
   "mimetype": "text/x-python",
   "name": "python",
   "nbconvert_exporter": "python",
   "pygments_lexer": "ipython3",
   "version": "3.12.4"
  }
 },
 "nbformat": 4,
 "nbformat_minor": 2
}
